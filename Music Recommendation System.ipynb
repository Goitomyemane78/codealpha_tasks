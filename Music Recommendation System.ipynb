{
 "cells": [
  {
   "cell_type": "markdown",
   "id": "396c5693-53b0-4dc4-a56b-5149ff15b727",
   "metadata": {},
   "source": [
    "# **Music Recommendation System**\n",
    "\n",
    "* Name: Goitom Yemane\n",
    "* Student ID: CA/FM3/2939\n",
    "* Program: Machine Learning Internship @CodeAlpha\n",
    "* Task 1- Music Recommendation System\n",
    "  \n",
    "Music Recommendation System is an information filtering system suggests music to users based on their preferences, listening history, and behavior. These\n",
    "systems are widely in music streaming platforms like YouTube Music and Spotify. Here is task developing music recommendation system using song histories repeatedly heard by the users.\n",
    "# Dataset Summary:\n",
    "\n",
    "This dataset contains various musical features of songs on Spotify. Each row represents a song and includes a variety of features related to the song, ranging from its popularity to its musical structure.\n",
    "\n",
    "## Main Features in the Dataset:\n",
    "\n",
    "* track_name: The name of the song.\n",
    "* artist(s)_name: The artist(s) of the song.\n",
    "* artist_count: The number of artists on the song (e.g., a single artist or featuring artists).\n",
    "* released_year: The year the song was released.\n",
    "* released_month: The month the song was released.\n",
    "* released_day: The day the song was released.\n",
    "* in_spotify_playlists: The number of Spotify playlists the song appears in.\n",
    "* in_spotify_charts: The position of the song in the Spotify charts.\n",
    "* streams: The number of times the song has been streamed.\n",
    "* in_apple_playlists: The number of Apple Music playlists the song appears in.\n",
    "* bpm: The song's tempo, measured in beats per minute.\n",
    "* key: The musical key of the song (e.g., A, B, C#).\n",
    "* mode: The musical mode of the song (e.g., Major or Minor).\n",
    "* danceability_%: The danceability of the song, representing how suitable it is for dancing (as a percentage).\n",
    "* valence_%: The mood of the song, indicating its emotional tone. High values represent a positive mood, while low values represent a more negative mood.\n",
    "* energy_%: The energy of the song, indicating how fast-paced or lively it is.\n",
    "* acousticness_%: The acoustic nature of the song, indicating how much the song is acoustic.\n",
    "* instrumentalness_%: The percentage of the song that is instrumental (no vocals).\n",
    "* liveness_%: Indicates whether the song is a live performance or not.\n",
    "* speechiness_%: The amount of speech in the song, indicating how much spoken content it has."
   ]
  },
  {
   "cell_type": "markdown",
   "id": "212a8fe9-2741-470b-b3e7-37904c7b30d7",
   "metadata": {},
   "source": [
    "# **Import Libraries**"
   ]
  },
  {
   "cell_type": "code",
   "execution_count": null,
   "id": "05de9aba-3188-4f7b-976e-289b1f7bd396",
   "metadata": {},
   "outputs": [],
   "source": [
    "import numpy as np\n",
    "import pandas as pd\n",
    "from sklearn.neighbors import NearestNeighbors\n",
    "from sklearn.preprocessing import StandardScaler"
   ]
  },
  {
   "cell_type": "code",
   "execution_count": null,
   "id": "afc996e3-d32d-41a2-97dd-7cf0ca17869c",
   "metadata": {},
   "outputs": [],
   "source": [
    "import os\n",
    "for dirname, _, filenames in os.walk('/kaggle/input'):\n",
    "    for filename in filenames:\n",
    "        print(os.path.join(dirname, filename))"
   ]
  },
  {
   "cell_type": "markdown",
   "id": "179ca97d-3e25-42e7-a655-586591ffca56",
   "metadata": {},
   "source": [
    "# Load the dataset (replace with the correct path to your CSV file)"
   ]
  },
  {
   "cell_type": "code",
   "execution_count": null,
   "id": "320d94cc-c1ed-4664-bca4-88679d8b07f6",
   "metadata": {},
   "outputs": [],
   "source": [
    "spotify_data = pd.read_csv(\"/kaggle/input/spotify-dataset-for-playing-around-with-sql/spotify_tracks.csv\")"
   ]
  },
  {
   "cell_type": "code",
   "execution_count": null,
   "id": "87999624-4924-41c1-8548-f7bcbae245f9",
   "metadata": {},
   "outputs": [],
   "source": [
    "spotify_data.info()"
   ]
  },
  {
   "cell_type": "markdown",
   "id": "0177f6c7-825a-485c-a127-454465f69df7",
   "metadata": {},
   "source": [
    "# Select the important features"
   ]
  },
  {
   "cell_type": "code",
   "execution_count": null,
   "id": "519427bc-3284-4b8a-b3a8-12458d56b41b",
   "metadata": {},
   "outputs": [],
   "source": [
    "features = ['bpm', 'danceability_%', 'energy_%', 'acousticness_%', 'instrumentalness_%']"
   ]
  },
  {
   "cell_type": "markdown",
   "id": "d293d45a-9a29-4c8e-8778-54b5a17a26cc",
   "metadata": {},
   "source": [
    "# Filter the dataset with selected features"
   ]
  },
  {
   "cell_type": "code",
   "execution_count": null,
   "id": "99620397-1788-4849-85c6-985925d4d203",
   "metadata": {},
   "outputs": [],
   "source": [
    "X = spotify_data[features]"
   ]
  },
  {
   "cell_type": "markdown",
   "id": "6d71c0bb-93d0-47b5-ac30-053a5889f71c",
   "metadata": {},
   "source": [
    "Fill missing values with the mean of each column"
   ]
  },
  {
   "cell_type": "code",
   "execution_count": null,
   "id": "95f2080e-dd42-4798-af11-4a61183628ac",
   "metadata": {},
   "outputs": [],
   "source": [
    "X = X.fillna(X.mean())"
   ]
  },
  {
   "cell_type": "markdown",
   "id": "487cec9c-3afa-439e-aa2b-1728224772ad",
   "metadata": {},
   "source": [
    "# Normalize the data"
   ]
  },
  {
   "cell_type": "code",
   "execution_count": null,
   "id": "8905f8ec-84c1-4236-ad33-6220fbde2c5e",
   "metadata": {},
   "outputs": [],
   "source": [
    "scaler = StandardScaler()\n",
    "X_scaled = scaler.fit_transform(X)"
   ]
  },
  {
   "cell_type": "markdown",
   "id": "c07857be-6054-40a9-9daf-87fd54bc0a61",
   "metadata": {},
   "source": [
    "# Create the KNN model"
   ]
  },
  {
   "cell_type": "code",
   "execution_count": null,
   "id": "0f1ba7c0-07bd-4855-82da-848516a64c42",
   "metadata": {},
   "outputs": [],
   "source": [
    "knn = NearestNeighbors(n_neighbors=10, metric='euclidean') \n",
    "knn.fit(X_scaled)"
   ]
  },
  {
   "cell_type": "markdown",
   "id": "481c1aca-9b4c-4107-9800-17d3840a11d9",
   "metadata": {},
   "source": [
    "# Select 7 random songs from the dataset"
   ]
  },
  {
   "cell_type": "code",
   "execution_count": null,
   "id": "4a59cc9b-2492-4c8e-ad8b-0d08ab303a9d",
   "metadata": {},
   "outputs": [],
   "source": [
    "random_songs = spotify_data.sample(n=7, random_state=537)"
   ]
  },
  {
   "cell_type": "markdown",
   "id": "cfd4dd50-7824-4dd5-8b06-128b410f6446",
   "metadata": {},
   "source": [
    "# For each selected song, find similar song"
   ]
  },
  {
   "cell_type": "code",
   "execution_count": null,
   "id": "fffe1d73-753e-46f1-9e86-2c560848e437",
   "metadata": {},
   "outputs": [],
   "source": [
    "for _, song in random_songs.iterrows():\n",
    "    song_name = song['track_name']\n",
    "    print(f\"\\nSelected Song: {song_name}\")\n",
    "\n",
    "    # Get the song's features\n",
    "    song_index = spotify_data[spotify_data['track_name'] == song_name].index[0]\n",
    "    query_song = X.iloc[song_index].values.reshape(1, -1)\n",
    "    \n",
    "    # Find similar songs\n",
    "    distances, indices = knn.kneighbors(query_song)\n",
    "\n",
    "    # Get the recommended songs' names and artists\n",
    "    recommended_songs = spotify_data.iloc[indices[0]]\n",
    "\n",
    "    # Display the recommended songs\n",
    "    print(f\"Similar songs to {song_name}:\")\n",
    "    print(recommended_songs[['track_name', 'artist(s)_name']])"
   ]
  }
 ],
 "metadata": {
  "kernelspec": {
   "display_name": "Python 3 (ipykernel)",
   "language": "python",
   "name": "python3"
  },
  "language_info": {
   "codemirror_mode": {
    "name": "ipython",
    "version": 3
   },
   "file_extension": ".py",
   "mimetype": "text/x-python",
   "name": "python",
   "nbconvert_exporter": "python",
   "pygments_lexer": "ipython3",
   "version": "3.12.3"
  }
 },
 "nbformat": 4,
 "nbformat_minor": 5
}
